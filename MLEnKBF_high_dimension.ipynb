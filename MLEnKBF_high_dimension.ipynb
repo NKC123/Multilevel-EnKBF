{
 "cells": [
  {
   "cell_type": "markdown",
   "metadata": {},
   "source": [
    "$$dX_t = A X_t dt + R_1 dW_t$$\n",
    "$$dY_t = H X_t dt + R_2 dV_t$$"
   ]
  },
  {
   "cell_type": "markdown",
   "metadata": {},
   "source": [
    "Model settings: (Conditions that the model needs to satsify)\n",
    "1. Signal of dimension 'dim', and the observtations are in dimension 'dim_o'\n",
    "2. $x_0|y_0 \\sim N(m_0,C_0)$\n",
    "3. $R_1, R_2$ is symmetric\n",
    "4. $R_1$ is commutable with $A$\n",
    "5. $(A+A')$ is invertible\n",
    "In this code, I will include the $A,R_1,R_2,H,m_0,C_0$ as parameter as well, so that it's easily scalable wrt any dimension dim.\n",
    "Note that dim needs to be bigger than 1, as the matrix multiplication sign '@' in python doesn't support '*' in one dimension."
   ]
  },
  {
   "cell_type": "markdown",
   "metadata": {},
   "source": [
    "First the input value for A,R1,R2,H,m0,C0 need to be folded into one variable.\n",
    "One need to specify the model in the cell below first."
   ]
  },
  {
   "cell_type": "code",
   "execution_count": 1,
   "metadata": {},
   "outputs": [],
   "source": [
    "import numpy as np\n",
    "from scipy import linalg as la\n",
    "from scipy.sparse import identity\n",
    "## dim is dimension value\n",
    "dim=3\n",
    "dim_o=2\n",
    "A=np.array([[-3,0.5,1],[0.5,-0.2,0.3],[1,0.3,-0.5]])\n",
    "## we denote R1^{1/2},R2^{1/2} as R1,R2 repectively for convenience\n",
    "R1=identity(3).toarray()\n",
    "R2=identity(2).toarray()\n",
    "H=np.array([[0.5,0.5,0.5],[1,0,1]])\n",
    "m0=np.zeros(3)+8\n",
    "C0=identity(3).toarray()\n",
    "## Collection of input \n",
    "collection_input = [dim,dim_o,A,R1,R2,H,m0,C0]"
   ]
  },
  {
   "cell_type": "markdown",
   "metadata": {},
   "source": [
    "Data & Truth Gneration Function"
   ]
  },
  {
   "cell_type": "code",
   "execution_count": 2,
   "metadata": {},
   "outputs": [],
   "source": [
    "def gen_data(T,l,collection_input):\n",
    "    \n",
    "    [dim,dim_o,A,R1,R2,H,m0,C0]=collection_input\n",
    "    J=T*(2**l)\n",
    "    I=identity(dim).toarray()\n",
    "    tau=2**(-l)\n",
    "    L=la.expm(A*tau)\n",
    "    W=(R1@R1)@(la.inv(A+A.T)@(L@(L.T)-I))\n",
    "    C=tau*H\n",
    "    V=(R2@R2)*tau\n",
    "\n",
    "    v=np.zeros((J+1,dim,1))\n",
    "    z=np.zeros((J+1,dim_o,1))\n",
    "    v[0]=np.random.multivariate_normal(m0,C0,(1)).T\n",
    "    z[0]=np.zeros((dim_o,1))\n",
    "\n",
    "\n",
    "    for j in range(J):\n",
    "        ## truth\n",
    "        v[j+1] = L@v[j] + np.random.multivariate_normal(np.zeros(dim),W,(1)).T\n",
    "        ## observation\n",
    "        z[j+1] = z[j] + C@v[j+1] + np.random.multivariate_normal(np.zeros(dim_o),V,(1)).T\n",
    "        \n",
    "    return([z,v])"
   ]
  },
  {
   "cell_type": "markdown",
   "metadata": {},
   "source": [
    "Cut & Trim Function"
   ]
  },
  {
   "cell_type": "code",
   "execution_count": 3,
   "metadata": {},
   "outputs": [],
   "source": [
    "def cut(T,lmax,l,v):\n",
    "    ind = np.arange(T*2**l+1)\n",
    "    rtau = 2**(lmax-l)\n",
    "    w = v[ind*rtau]\n",
    "    return(w)"
   ]
  },
  {
   "cell_type": "markdown",
   "metadata": {},
   "source": [
    "Kalman Bucy Filter"
   ]
  },
  {
   "cell_type": "code",
   "execution_count": 4,
   "metadata": {},
   "outputs": [],
   "source": [
    "def KBF(T,l,lmax,z,collection_input):\n",
    "    \n",
    "    [dim,dim_o,A,R1,R2,H,m0,C0]=collection_input\n",
    "    J=T*(2**l)\n",
    "    I=identity(dim).toarray()\n",
    "    tau=2**(-l)\n",
    "    L=la.expm(A*tau)\n",
    "    W=(R1@R1)@(la.inv(A+A.T)@(L@(L.T)-I))\n",
    "    ## C: dim_o*dim matrix\n",
    "    C=tau*H\n",
    "    V=(R2@R2)*tau\n",
    "    \n",
    "    z=cut(T,lmax,l,z)\n",
    "    m=np.zeros((J+1,dim,1))\n",
    "    c=np.zeros((J+1,dim,dim))\n",
    "    m[0]=10*np.ones((dim,1))\n",
    "    c[0]=100*C0\n",
    "    \n",
    "    for j in range(J):\n",
    "        ## prediction mean-dim*1 vector\n",
    "        mhat=L@m[j]\n",
    "        ## prediction covariance-dim*dim matrix\n",
    "        chat=L@c[j]@(L.T)+W\n",
    "        ## innovation-dim_o*1 vector\n",
    "        d=(z[j+1]-z[j])-C@mhat\n",
    "        ## Kalman gain-dim*dim_o vector\n",
    "        K=(chat@(C.T))@la.inv(C@chat@(C.T)+V)\n",
    "        ## update mean-dim*1 vector\n",
    "        m[j+1]=mhat+K@d\n",
    "        ## update covariance-dim*dim matrix\n",
    "        c[j+1]=(I-K@C)@chat\n",
    "        \n",
    "    return([m,c])"
   ]
  },
  {
   "cell_type": "markdown",
   "metadata": {},
   "source": [
    "Testing Floor: KBF"
   ]
  },
  {
   "cell_type": "code",
   "execution_count": 5,
   "metadata": {},
   "outputs": [
    {
     "data": {
      "text/plain": [
       "<Figure size 640x480 with 1 Axes>"
      ]
     },
     "metadata": {},
     "output_type": "display_data"
    }
   ],
   "source": [
    "## test:good\n",
    "import numpy as np\n",
    "import matplotlib.pyplot as plt \n",
    "from scipy import linalg as la\n",
    "from scipy.sparse import identity\n",
    "T=5\n",
    "lmax=5\n",
    "l=4\n",
    "tau=2**(-l)\n",
    "## The with numpy.errstate argument is used to avoid any stupid warning\n",
    "with np.errstate(divide='ignore'):\n",
    "    [z,v] = gen_data(T,lmax,collection_input)\n",
    "    [m,c] = KBF(T,l,lmax,z,collection_input)\n",
    "v=cut(T,lmax,l,v)\n",
    "J=T*(2**l)\n",
    "x1 = tau*np.arange(J+1)\n",
    "plt.plot(x1,m[:,0],label=\"KBF posterior mean estimate\")\n",
    "plt.plot(x1,v[:,0],label=\"true value\")\n",
    "plt.xlabel('time')\n",
    "plt.ylabel('value')\n",
    "plt.title('Kalman-Bucy Filter')\n",
    "plt.legend()\n",
    "plt.grid()\n",
    "plt.show()"
   ]
  },
  {
   "cell_type": "markdown",
   "metadata": {},
   "source": [
    "Ensemble Kalman Bucy Filter Function"
   ]
  },
  {
   "cell_type": "code",
   "execution_count": 6,
   "metadata": {},
   "outputs": [],
   "source": [
    "def EnKBF(T,l,lmax,z,N,collection_input):\n",
    "    \n",
    "    [dim,dim_o,A,R1,R2,H,m0,C0]=collection_input\n",
    "    J=T*(2**l)\n",
    "    I=identity(dim).toarray()\n",
    "    I_o=identity(dim_o).toarray()\n",
    "    dt=2**(-l)\n",
    "    \n",
    "    m=np.zeros((J+1,dim,1))\n",
    "    c=np.zeros((J+1,dim,dim))\n",
    "    z=cut(T,lmax,l,z)\n",
    "    \n",
    "    ## This gives a dim*N matrix\n",
    "    x = np.random.multivariate_normal(m0,C0,N).T\n",
    "    ## A dim*1 vector\n",
    "    m[0]=(np.mean(x, axis=1)).reshape(dim,1)\n",
    "    ## dim*dim matrix\n",
    "    c[0]=((x-m[0])@((x-m[0]).T)) /(N-1)\n",
    "    for j in range(J):\n",
    "        dw = np.random.multivariate_normal(np.zeros(dim),dt*I,N).T\n",
    "        dv = np.random.multivariate_normal(np.zeros(dim_o),dt*I_o,N).T\n",
    "        ## A@x:dim*N R1@dw:dim*N c[j]@(H.T):dim*dim_o z[j+1]-z[j]:dim_o*1 H@x*dt:dim_o*N R2*dv:dim_o*N \n",
    "        ## x-m[j]:dim*N c[j]:dim*dim\n",
    "        \n",
    "        step1=(((x-m[j]).T)@(H.T))\n",
    "        step2=step1@(la.inv(R2)@la.inv(R2))\n",
    "        step3=step2@( (z[j+1]-z[j]) - (H@x*dt + R2@dv) )\n",
    "        step4=(x-m[j])@step3 /(N-1)\n",
    "        \n",
    "        x = x + A@x*dt + R1@dw + step4\n",
    "        m[j+1] = (np.mean(x, axis=1)).reshape(dim,1)\n",
    "\n",
    "    return([m,c])"
   ]
  },
  {
   "cell_type": "markdown",
   "metadata": {},
   "source": [
    "Testing Floor: EnKBF"
   ]
  },
  {
   "cell_type": "code",
   "execution_count": 7,
   "metadata": {},
   "outputs": [
    {
     "data": {
      "image/png": "[encoded data removed]",
      "text/plain": [
       "<Figure size 432x288 with 1 Axes>"
      ]
     },
     "metadata": {
      "needs_background": "light"
     },
     "output_type": "display_data"
    }
   ],
   "source": [
    "## test:good\n",
    "import numpy as np\n",
    "import matplotlib.pyplot as plt \n",
    "from scipy import linalg as la\n",
    "from scipy.sparse import identity\n",
    "T=5\n",
    "lmax=5\n",
    "l=4\n",
    "tau=2**(-l)\n",
    "N=50\n",
    "## The with numpy.errstate argument is used to avoid any stupid warning\n",
    "with np.errstate(divide='ignore'):\n",
    "    [z,v] = gen_data(T,lmax,collection_input)\n",
    "    [m,c] = KBF(T,l,lmax,z,collection_input)\n",
    "    [m1,c1] = EnKBF(T,l,lmax,z,N,collection_input)\n",
    "v=cut(T,lmax,l,v)\n",
    "J=T*(2**l)\n",
    "x1 = tau*np.arange(J+1)\n",
    "plt.plot(x1,m[:,0],label=\"KBF posterior mean estimate\")\n",
    "plt.plot(x1,v[:,0],label=\"true value\")\n",
    "plt.plot(x1,m1[:,0],label=\"EKBF posterior mean estimate\")\n",
    "plt.xlabel('time')\n",
    "plt.ylabel('value')\n",
    "plt.title('Kalman-Bucy Filter')\n",
    "plt.legend()\n",
    "plt.grid()\n",
    "plt.show()"
   ]
  },
  {
   "cell_type": "markdown",
   "metadata": {},
   "source": [
    "Coupled Ensemble Kalman Bucy Filter Function"
   ]
  },
  {
   "cell_type": "code",
   "execution_count": 8,
   "metadata": {},
   "outputs": [],
   "source": [
    "def CEnKBF(T,l,lmax,z,N,collection_input):\n",
    "    \n",
    "    [dim,dim_o,A,R1,R2,H,m0,C0]=collection_input\n",
    "    J=T*(2**(l-1))\n",
    "    I=identity(dim).toarray()\n",
    "    I1=identity(dim_o).toarray()\n",
    "    dt=2**(-l)\n",
    "    dt1=2**(-l+1)\n",
    "    \n",
    "    m=np.zeros((J*2+1,dim,1))\n",
    "    m1=np.zeros((J+1,dim,1))\n",
    "    c=np.zeros((J*2+1,dim,dim))\n",
    "    c1=np.zeros((J+1,dim,dim))\n",
    "    z1=cut(T,lmax,l-1,z)\n",
    "    z=cut(T,lmax,l,z)\n",
    "    \n",
    "    ## This gives a dim*N matrix\n",
    "    x = np.random.multivariate_normal(m0,C0,N).T\n",
    "    x1 = x\n",
    "    ## A dim*1 vector\n",
    "    m[0]=(np.mean(x, axis=1)).reshape(dim,1)\n",
    "    m1[0]=m[0]\n",
    "    ## dim*dim matrix\n",
    "    c[0]=((x-m[0])@((x-m[0]).T)) /(N-1)\n",
    "    c1[0]=c[0]\n",
    "    \n",
    "    dw=np.zeros((2,dim,N))\n",
    "    dv=np.zeros((2,dim_o,N))\n",
    "    for j in range(J):\n",
    "        for s in range(2):\n",
    "            dw[s] = np.random.multivariate_normal(np.zeros(dim),dt*I,N).T\n",
    "            dv[s] = np.random.multivariate_normal(np.zeros(dim_o),dt*I1,N).T\n",
    "            ## A@x:dim*N R1@dw:dim*N c[j]@(H.T):dim*dim_o z[j+1]-z[j]:dim_o*1 H@x*dt:dim_o*N R2*dv:dim_o*N \n",
    "            ## x-m[j]:dim*N c[j]:dim*dim\n",
    "\n",
    "            step1=(((x-m[2*j+s]).T)@(H.T))\n",
    "            step2=step1@(la.inv(R2)@la.inv(R2))\n",
    "            step3=step2@( (z[2*j+s+1]-z[2*j+s]) - (H@x*dt + R2@dv[s]) )\n",
    "            step4=(x-m[2*j+s])@step3 /(N-1)\n",
    "\n",
    "            x = x + A@x*dt + R1@dw[s] + step4\n",
    "            m[2*j+s+1] = (np.mean(x, axis=1)).reshape(dim,1)\n",
    "        \n",
    "        step1=(((x1-m1[j]).T)@(H.T))\n",
    "        step2=step1@(la.inv(R2)@la.inv(R2))\n",
    "        step3=step2@( (z1[j+1]-z1[j]) - (H@x1*dt1 + R2@(dv[0]+dv[1])) )\n",
    "        step4=(x1-m1[j])@step3 /(N-1)\n",
    "        \n",
    "        x1 = x1 + A@x1*dt1 + R1@(dw[0]+dw[1]) + step4\n",
    "        m1[j+1] = (np.mean(x1, axis=1)).reshape(dim,1)\n",
    "        \n",
    "    return([m,m1])"
   ]
  },
  {
   "cell_type": "markdown",
   "metadata": {},
   "source": [
    "Test Floor"
   ]
  },
  {
   "cell_type": "code",
   "execution_count": 10,
   "metadata": {},
   "outputs": [
    {
     "data": {
      "image/png": "[encoded data removed]",
      "text/plain": [
       "<Figure size 432x288 with 1 Axes>"
      ]
     },
     "metadata": {
      "needs_background": "light"
     },
     "output_type": "display_data"
    }
   ],
   "source": [
    "## test:good\n",
    "import numpy as np\n",
    "import matplotlib.pyplot as plt \n",
    "from scipy import linalg as la\n",
    "from scipy.sparse import identity\n",
    "T=5\n",
    "lmax=5\n",
    "l=4\n",
    "N=50\n",
    "tau=2**(-l)\n",
    "## The with numpy.errstate argument is used to avoid any stupid warning\n",
    "with np.errstate(divide='ignore'):\n",
    "    [z,v] = gen_data(T,lmax,collection_input)\n",
    "    [m,c] = KBF(T,l,lmax,z,collection_input)\n",
    "    [m2,m3] = CEnKBF(T,l,lmax,z,N,collection_input)\n",
    "v=cut(T,lmax,l,v)\n",
    "J=T*(2**l)\n",
    "x1 = tau*np.arange(J+1)\n",
    "x2 = 2**(-l+1)*np.arange(T*(2**(l-1))+1)\n",
    "plt.plot(x1,m[:,0],label=\"KBF posterior mean estimate\")\n",
    "plt.plot(x1,v[:,0],label=\"true value\")\n",
    "plt.plot(x1,m2[:,0],label=\"CEnKBF fine posterior mean estimate\")\n",
    "plt.plot(x2,m3[:,0],label=\"CEnKBF coarse posterior mean estimate\")\n",
    "plt.xlabel('time')\n",
    "plt.ylabel('value')\n",
    "plt.title('Kalman-Bucy Filter')\n",
    "plt.legend()\n",
    "plt.grid()\n",
    "plt.show()"
   ]
  },
  {
   "cell_type": "code",
   "execution_count": null,
   "metadata": {},
   "outputs": [],
   "source": []
  }
 ],
 "metadata": {
  "kernelspec": {
   "display_name": "Python 3",
   "language": "python",
   "name": "python3"
  },
  "language_info": {
   "codemirror_mode": {
    "name": "ipython",
    "version": 3
   },
   "file_extension": ".py",
   "mimetype": "text/x-python",
   "name": "python",
   "nbconvert_exporter": "python",
   "pygments_lexer": "ipython3",
   "version": "3.7.4"
  }
 },
 "nbformat": 4,
 "nbformat_minor": 4
}
