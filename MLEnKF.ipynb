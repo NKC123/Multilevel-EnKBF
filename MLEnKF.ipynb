{
 "cells": [
  {
   "cell_type": "markdown",
   "metadata": {},
   "source": [
    "MLEnKF surprisingly easy to implement, we deal with one dimension case first, let's use varphi(x)=x"
   ]
  },
  {
   "cell_type": "code",
   "execution_count": null,
   "metadata": {},
   "outputs": [],
   "source": [
    "One dimmensional Data generator: Expected to output a sequence of observations of the highest frequency lmax=12"
   ]
  },
  {
   "cell_type": "code",
   "execution_count": 138,
   "metadata": {},
   "outputs": [],
   "source": [
    "## First we deal the one dimensional case\n",
    "import numpy as np\n",
    "import math\n",
    "from scipy.stats import norm\n",
    "## Initialization\n",
    "T = 100\n",
    "lmax = 12\n",
    "l = lmax\n",
    "## dimension value, redundant for one dimensional case but useful for high dimension\n",
    "d = 1\n",
    "dtim = 2**l*T\n",
    "dt = 2**(-l)\n",
    "A = 0.11 \n",
    "C = 0.01\n",
    "R1 = 1\n",
    "R2 = 1\n",
    "## initial mean m, initial covariance C\n",
    "m = 1\n",
    "c = 1\n",
    "## Data vector\n",
    "y = np.zeros(dtim+1)\n",
    "## Signal vector\n",
    "x = np.zeros(dtim+1)\n",
    "## I will just discretized the model to get the data as it's the most straight forwrd ways\n",
    "y[0] = 0\n",
    "x[0] = np.random.normal(m,math.sqrt(c),1)\n",
    "for t in range(dtim):\n",
    "    dw = np.random.normal(0,math.sqrt(dt),d)\n",
    "    dv = np.random.normal(0,math.sqrt(dt),d)\n",
    "    y[t+1] = y[t] + C*x[t]*dt + np.sqrt(R2)*dv\n",
    "    x[t+1] = x[t] + A*x[t]*dt + np.sqrt(R1)*dw"
   ]
  },
  {
   "cell_type": "markdown",
   "metadata": {},
   "source": [
    "Save the one dimensional data here "
   ]
  },
  {
   "cell_type": "code",
   "execution_count": 117,
   "metadata": {},
   "outputs": [],
   "source": [
    "np.savetxt(\"data1d.csv\", y, delimiter=\",\")"
   ]
  },
  {
   "cell_type": "markdown",
   "metadata": {},
   "source": [
    "Load the data here"
   ]
  },
  {
   "cell_type": "code",
   "execution_count": 10,
   "metadata": {},
   "outputs": [],
   "source": [
    "import numpy as np\n",
    "import math\n",
    "from scipy.stats import norm\n",
    "lmax = 12\n",
    "y = np.loadtxt('data1d.csv')"
   ]
  },
  {
   "cell_type": "markdown",
   "metadata": {},
   "source": [
    "Ensemble Kalman Bucy Filter on a single level"
   ]
  },
  {
   "cell_type": "code",
   "execution_count": 195,
   "metadata": {},
   "outputs": [],
   "source": [
    "def EKBF(T,l,N):\n",
    "    d = 1\n",
    "    dtim = 2**l*T\n",
    "    dt = 2**(-l)\n",
    "    A = 0.11 \n",
    "    C = 0.01\n",
    "    R1 = 1\n",
    "    R2 = 1\n",
    "    ## initial mean m, initial covariance C\n",
    "    m = 1\n",
    "    c = 1\n",
    "    ## Vlasov diffusion signal\n",
    "    x = np.zeros(N)\n",
    "    x = np.random.normal(m,np.sqrt(c),N)\n",
    "    for t in range(dtim):\n",
    "        dw = np.random.normal(0,math.sqrt(dt),N)\n",
    "        dv = np.random.normal(0,math.sqrt(dt),N)\n",
    "        mean = np.mean(x)\n",
    "        ## This doesn't have to be calculated out in high dimension, to my understanding\n",
    "        ## Basically explicitly computing this p matrix in high dimension is gonna be a nightmare, however\n",
    "        ## a nice form of H would significantly reduces the amount of work required for computing p*C straight away\n",
    "        p = (N-1)**(-1)*np.sum((x-mean)*(x-mean))\n",
    "        x = x + A*x*dt + R1*dw + p*C*R2**(-2)*( (y[(t+1)*2**(lmax-l)]-y[t*2**(lmax-l)]) - (C*x*dt + R2*dv) )\n",
    "    return np.mean(x)"
   ]
  },
  {
   "cell_type": "markdown",
   "metadata": {},
   "source": [
    "Coupled Ensemble Kalman Bucy Filter"
   ]
  },
  {
   "cell_type": "code",
   "execution_count": 196,
   "metadata": {},
   "outputs": [],
   "source": [
    "## Coupled Ensemble Kalman Bucy Filter\n",
    "def CEKBF(T,l,N):\n",
    "    d = 1\n",
    "    # ctim = dtim/2\n",
    "    dtim = 2**l*T\n",
    "    ctim = 2**(l-1)*T\n",
    "    dt = 2**(-l)\n",
    "    A = 0.11 \n",
    "    C = 0.01\n",
    "    R1 = 1\n",
    "    R2 = 1\n",
    "    ## initial mean m, initial covariance C\n",
    "    m = 1\n",
    "    c = 1\n",
    "    ## Vlasov diffusion signal\n",
    "    xf = np.zeros(N)\n",
    "    xc = np.zeros(N)\n",
    "    ## Initialize signal\n",
    "    xf = np.random.normal(m,c,N)\n",
    "    xc = xf\n",
    "    for t in range(ctim):\n",
    "        dw = np.sqrt(dt)*np.random.randn(2,N)\n",
    "        dv = np.sqrt(dt)*np.random.randn(2,N)\n",
    "        mf = np.mean(xf)\n",
    "        mc = np.mean(xc)\n",
    "        ## Yes I am storing it again and I shouldn't be doing that I know but it's one-dimension case\n",
    "        pf = (N-1)**(-1)*np.sum((xf-mf)*(xf-mf))\n",
    "        pc = (N-1)**(-1)*np.sum((xc-mc)*(xc-mc))\n",
    "        for s in range(2):\n",
    "            xf = xf + A*xf*dt + R1*dw[s,] + pf*C*R2**(-2)*( (y[(t*2+s+1)*2**(lmax-l)]-y[(t*2+s)*2**(lmax-l)]) - (C*xf*dt + R2*dv[s,]) )\n",
    "        xc = xc + A*xc*(dt*2) + R1*(dw[0,]+dw[1,]) + pc*C*R2**(-2)*( y[(t+1)*2**(lmax-l+1)]-y[(t)*2**(lmax-l+1)] - (C*xc*(dt*2) + R2*(dv[0,]+dv[1,])) )\n",
    "    return (np.mean(xf) - np.mean(xc))"
   ]
  },
  {
   "cell_type": "markdown",
   "metadata": {},
   "source": [
    "Kalman Bucy Filter as reference"
   ]
  },
  {
   "cell_type": "code",
   "execution_count": 197,
   "metadata": {},
   "outputs": [],
   "source": [
    "def KBF(T,l):\n",
    "    ndim = T*2**(l)\n",
    "    tau = 2**(-l)\n",
    "    ## tau / 2**(-lmax)\n",
    "    rtau = 2**(-l+lmax)\n",
    "    A = 0.11 \n",
    "    ## Danger, here C is the parameter matrix, while below c represent the analysis covariance matrix, first bug uses same expression C for both\n",
    "    C = 0.01\n",
    "    R1 = 1\n",
    "    R2 = 1\n",
    "    ## initial mean m, initial covariance c\n",
    "    m = 1\n",
    "    c = 1\n",
    "    ## Bunch of calculation of variance\n",
    "    W = (np.exp(2*A*tau)-1)/(2*A)\n",
    "    L = np.exp(A*tau)\n",
    "    H = C*tau\n",
    "    V = tau\n",
    "\n",
    "    for n in range(ndim):\n",
    "        ## prediction\n",
    "        mhat = L*m\n",
    "        chat = L*c*L + W\n",
    "        ## Kalman Gain\n",
    "        K = chat*H*(H*mhat*H + V)**(-1)\n",
    "        ## update/analysis\n",
    "        m = mhat + K*(y[(n+1)*rtau]-y[n*rtau] - H*chat)\n",
    "        c = (1-K*H)*chat\n",
    "    return(m)"
   ]
  },
  {
   "cell_type": "code",
   "execution_count": 208,
   "metadata": {},
   "outputs": [
    {
     "data": {
      "image/png": "[encoded data removed]",
      "text/plain": [
       "<Figure size 432x288 with 1 Axes>"
      ]
     },
     "metadata": {
      "needs_background": "light"
     },
     "output_type": "display_data"
    },
    {
     "data": {
      "text/plain": [
       "<Figure size 432x288 with 0 Axes>"
      ]
     },
     "metadata": {},
     "output_type": "display_data"
    }
   ],
   "source": [
    "import matplotlib.pyplot as plt\n",
    "## Actual mean E[X_t]\n",
    "x1 = np.arange(1,21)\n",
    "y1 = np.exp(x1*A)\n",
    "# plotting \n",
    "plt.plot(x1, y1, label = \"Actual Mean\")\n",
    "## Approx posterior mean by Kalman-Bucy Filter at discretization level 8\n",
    "x2 = x1\n",
    "y2 = np.zeros(20)\n",
    "for i in range(20):\n",
    "    y2[i] = KBF(x2[i],8)\n",
    "# plotting\n",
    "plt.plot(x2, y2, label = \"KBF posterior mean estimate\")\n",
    "## Approx empirical posterior mean by Ensemble Kalman-Bucy Filter at discretization level 8 wtih 1000 ensembles\n",
    "x3 = x1\n",
    "y3 = np.zeros(20)\n",
    "for i in range(20):\n",
    "    y3[i] =EKBF(x3[i],8,1000)\n",
    "## plotting\n",
    "plt.plot(x3, y3, label = \"EnKBF posterior mean estimate\")\n",
    "##\n",
    "plt.xlabel('time')\n",
    "plt.ylabel('mean(estimate)')\n",
    "plt.title('Comparison plot')\n",
    "plt.legend()\n",
    "plt.show()"
   ]
  },
  {
   "cell_type": "code",
   "execution_count": null,
   "metadata": {},
   "outputs": [],
   "source": []
  }
 ],
 "metadata": {
  "kernelspec": {
   "display_name": "Python 3",
   "language": "python",
   "name": "python3"
  },
  "language_info": {
   "codemirror_mode": {
    "name": "ipython",
    "version": 3
   },
   "file_extension": ".py",
   "mimetype": "text/x-python",
   "name": "python",
   "nbconvert_exporter": "python",
   "pygments_lexer": "ipython3",
   "version": "3.7.4"
  }
 },
 "nbformat": 4,
 "nbformat_minor": 4
}
